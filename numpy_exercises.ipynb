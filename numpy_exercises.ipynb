{
 "cells": [
  {
   "cell_type": "code",
   "execution_count": 1,
   "id": "6b1b95f4",
   "metadata": {},
   "outputs": [],
   "source": [
    "import numpy as np"
   ]
  },
  {
   "cell_type": "code",
   "execution_count": 96,
   "id": "f4c6b4d5",
   "metadata": {},
   "outputs": [],
   "source": [
    "a = np.array([4, 10, 12, 23, -2, -1, 0, 0, 0, -6, 3, -7])\n"
   ]
  },
  {
   "cell_type": "code",
   "execution_count": 3,
   "id": "39695e52",
   "metadata": {},
   "outputs": [],
   "source": [
    "mask = a < 0"
   ]
  },
  {
   "cell_type": "code",
   "execution_count": 5,
   "id": "1cf259c2",
   "metadata": {},
   "outputs": [
    {
     "data": {
      "text/plain": [
       "4"
      ]
     },
     "execution_count": 5,
     "metadata": {},
     "output_type": "execute_result"
    }
   ],
   "source": [
    "#1\n",
    "len(a[mask])"
   ]
  },
  {
   "cell_type": "code",
   "execution_count": 8,
   "id": "fcbcce9c",
   "metadata": {},
   "outputs": [
    {
     "data": {
      "text/plain": [
       "5"
      ]
     },
     "execution_count": 8,
     "metadata": {},
     "output_type": "execute_result"
    }
   ],
   "source": [
    "#2\n",
    "len(a[a > 0])"
   ]
  },
  {
   "cell_type": "code",
   "execution_count": 99,
   "id": "b16e83af",
   "metadata": {},
   "outputs": [
    {
     "data": {
      "text/plain": [
       "3"
      ]
     },
     "execution_count": 99,
     "metadata": {},
     "output_type": "execute_result"
    }
   ],
   "source": [
    "#3\n",
    "mask = (a % 2 == 0) & (a > 0)\n",
    "len(a[mask])"
   ]
  },
  {
   "cell_type": "code",
   "execution_count": 98,
   "id": "ce4e533c",
   "metadata": {},
   "outputs": [
    {
     "data": {
      "text/plain": [
       "10"
      ]
     },
     "execution_count": 98,
     "metadata": {},
     "output_type": "execute_result"
    }
   ],
   "source": [
    "#4\n",
    "a_plus_3 = a + 3\n",
    "len(a_plus_3[a_plus_3 > 0])"
   ]
  },
  {
   "cell_type": "code",
   "execution_count": 30,
   "id": "9c2402e5",
   "metadata": {},
   "outputs": [
    {
     "name": "stdout",
     "output_type": "stream",
     "text": [
      "144.0243035046516\n",
      "74.0\n"
     ]
    }
   ],
   "source": [
    "#5\n",
    "a_sqrd = a ** 2\n",
    "print(np.std(a_sqrd))\n",
    "print(np.mean(a_sqrd))"
   ]
  },
  {
   "cell_type": "code",
   "execution_count": 35,
   "id": "fbd00274",
   "metadata": {},
   "outputs": [
    {
     "data": {
      "text/plain": [
       "0.0"
      ]
     },
     "execution_count": 35,
     "metadata": {},
     "output_type": "execute_result"
    }
   ],
   "source": [
    "#6\n",
    "a_centered = a - np.mean(a)\n",
    "a_centered\n",
    "np.mean(a_centered)"
   ]
  },
  {
   "cell_type": "code",
   "execution_count": 37,
   "id": "b5021547",
   "metadata": {},
   "outputs": [
    {
     "data": {
      "text/plain": [
       "array([ 0.12403473,  0.86824314,  1.11631261,  2.48069469, -0.62017367,\n",
       "       -0.49613894, -0.3721042 , -0.3721042 , -0.3721042 , -1.11631261,\n",
       "        0.        , -1.24034735])"
      ]
     },
     "execution_count": 37,
     "metadata": {},
     "output_type": "execute_result"
    }
   ],
   "source": [
    "#7\n",
    "a_zscores = (a - np.mean(a)) / np.std(a)\n",
    "a_zscores"
   ]
  },
  {
   "cell_type": "code",
   "execution_count": 38,
   "id": "911833ea",
   "metadata": {},
   "outputs": [],
   "source": [
    "#8\n",
    "## Setup 1\n",
    "a = [1, 2, 3, 4, 5, 6, 7, 8, 9, 10]"
   ]
  },
  {
   "cell_type": "code",
   "execution_count": 60,
   "id": "50f1dd31",
   "metadata": {},
   "outputs": [],
   "source": [
    "# Use python's built in functionality/operators to determine the following:\n",
    "# Exercise 1 - Make a variable called sum_of_a to hold the sum of all the numbers in above list\n",
    "sum_of_a= np.sum(a)\n",
    "# Exercise 2 - Make a variable named min_of_a to hold the minimum of all the numbers in the above list\n",
    "min_of_a = np.min(a)\n",
    "# Exercise 3 - Make a variable named max_of_a to hold the max number of all the numbers in the above list\n",
    "max_of_a = np.max(a)\n",
    "# Exercise 4 - Make a variable named mean_of_a to hold the average of all the numbers in the above list\n",
    "mean_of_a = np.mean(a)\n",
    "# Exercise 5 - Make a variable named product_of_a to hold the product of multiplying all the numbers in the above list together\n",
    "product_of_a = np.prod(a)\n",
    "# Exercise 6 - Make a variable named squares_of_a. It should hold each number in a squared like [1, 4, 9, 16, 25...]\n",
    "alist_sqrd = [x **2 for x in a]\n",
    "# Exercise 7 - Make a variable named odds_in_a. It should hold only the odd numbers\n",
    "a_array = np.array(a)\n",
    "mask = a_aray % 2 == 0\n",
    "odds_in_a = a_array[~mask]\n",
    "# Exercise 8 - Make a variable named evens_in_a. It should hold only the evens.\n",
    "evens_in_a = a_array[mask]"
   ]
  },
  {
   "cell_type": "code",
   "execution_count": 61,
   "id": "f463a91f",
   "metadata": {},
   "outputs": [],
   "source": [
    "## What about life in two dimensions? A list of lists is matrix, a table, a spreadsheet, a chessboard...\n",
    "## Setup 2: Consider what it would take to find the sum, min, max, average, sum, product, and list of squares for this list of two lists.\n",
    "b = [\n",
    "    [3, 4, 5],\n",
    "    [6, 7, 8]\n",
    "]"
   ]
  },
  {
   "cell_type": "code",
   "execution_count": 65,
   "id": "ac1cda88",
   "metadata": {},
   "outputs": [],
   "source": [
    "# Exercise 1 - refactor the following to use numpy. Use sum_of_b as the variable. \n",
    "#**Hint, you'll first need to make sure that the \"b\" variable is a numpy array**\n",
    "b = np.array(b)\n",
    "\n",
    "sum_of_b = np.sum(b)"
   ]
  },
  {
   "cell_type": "code",
   "execution_count": 77,
   "id": "0545cad2",
   "metadata": {},
   "outputs": [
    {
     "data": {
      "text/plain": [
       "array([[3],\n",
       "       [4],\n",
       "       [5],\n",
       "       [6],\n",
       "       [7],\n",
       "       [8]])"
      ]
     },
     "execution_count": 77,
     "metadata": {},
     "output_type": "execute_result"
    }
   ],
   "source": [
    "# Exercise 2 - refactor the following to use numpy. \n",
    "min_of_b = np.min(b)\n",
    "# Exercise 3 - refactor the following maximum calculation to find the answer with numpy.\n",
    "max_of_b = np.max(b)\n",
    "# Exercise 4 - refactor the following using numpy to find the mean of b\n",
    "mean_of_b = np.mean(b)\n",
    "# Exercise 5 - refactor the following to use numpy for calculating the product of all numbers multiplied together.\n",
    "product_of_b = np.prod(b)\n",
    "# Exercise 6 - refactor the following to use numpy to find the list of squares \n",
    "squares_of_b = list(b**2)\n",
    "# Exercise 7 - refactor using numpy to determine the odds_in_b\n",
    "mask = b % 2 == 0\n",
    "odds_in_b = b[~mask]\n",
    "# Exercise 8 - refactor the following to use numpy to filter only the even numbers\n",
    "evens_in_b = b[mask]\n",
    "# Exercise 9 - print out the shape of the array b.\n",
    "np.shape(b)\n",
    "# Exercise 10 - transpose the array b.\n",
    "np.transpose(b)\n",
    "# Exercise 11 - reshape the array b to be a single list of 6 numbers. (1 x 6)\n",
    "np.reshape(b,(1,6))\n",
    "# Exercise 12 - reshape the array b to be a list of 6 lists, each containing only 1 number (6 x 1)\n",
    "np.reshape(b,(6,1))"
   ]
  },
  {
   "cell_type": "code",
   "execution_count": 78,
   "id": "426cc502",
   "metadata": {},
   "outputs": [],
   "source": [
    "## Setup 3\n",
    "c = [\n",
    "    [1, 2, 3],\n",
    "    [4, 5, 6],\n",
    "    [7, 8, 9]\n",
    "]"
   ]
  },
  {
   "cell_type": "code",
   "execution_count": 85,
   "id": "e48f1f67",
   "metadata": {},
   "outputs": [
    {
     "name": "stdout",
     "output_type": "stream",
     "text": [
      "1\n",
      "9\n",
      "45\n",
      "362880\n",
      "2.581988897471611\n",
      "6.666666666666667\n",
      "(3, 3)\n",
      "[[1 4 7]\n",
      " [2 5 8]\n",
      " [3 6 9]]\n",
      "[[ 30  36  42]\n",
      " [ 66  81  96]\n",
      " [102 126 150]]\n",
      "261\n",
      "131681894400\n"
     ]
    }
   ],
   "source": [
    "# HINT, you'll first need to make sure that the \"c\" variable is a numpy array prior to using numpy array methods.\n",
    "# Exercise 1 - Find the min, max, sum, and product of c.\n",
    "print(np.min(c))\n",
    "print(np.max(c))\n",
    "print(np.sum(c))\n",
    "print(np.prod(c))\n",
    "# Exercise 2 - Determine the standard deviation of c.\n",
    "print(np.std(c))\n",
    "# Exercise 3 - Determine the variance of c.\n",
    "print(np.var(c))\n",
    "# Exercise 4 - Print out the shape of the array c\n",
    "print(np.shape(c))\n",
    "# Exercise 5 - Transpose c and print out transposed result.\n",
    "print(np.transpose(c))\n",
    "# Exercise 6 - Get the dot product of the array c with c. \n",
    "print(np.dot(c,c))\n",
    "# Exercise 7 - Write the code necessary to sum up the result of c times c transposed. Answer should be 261\n",
    "print(np.sum(c * np.transpose(c)))\n",
    "# Exercise 8 - Write the code necessary to determine the product of c times c transposed. Answer should be 131681894400.\n",
    "print(np.prod(c* np.transpose(c)))"
   ]
  },
  {
   "cell_type": "code",
   "execution_count": 86,
   "id": "bd9220a6",
   "metadata": {},
   "outputs": [],
   "source": [
    "## Setup 4\n",
    "d = [\n",
    "    [90, 30, 45, 0, 120, 180],\n",
    "    [45, -90, -30, 270, 90, 0],\n",
    "    [60, 45, -45, 90, -45, 180]\n",
    "]"
   ]
  },
  {
   "cell_type": "code",
   "execution_count": 102,
   "id": "bf83921b",
   "metadata": {},
   "outputs": [
    {
     "name": "stdout",
     "output_type": "stream",
     "text": [
      "11\n",
      "(3, 6)\n",
      "(6, 3)\n",
      "[[ 90  30]\n",
      " [ 45   0]\n",
      " [120 180]\n",
      " [ 45 -90]\n",
      " [-30 270]\n",
      " [ 90   0]\n",
      " [ 60  45]\n",
      " [-45  90]\n",
      " [-45 180]]\n"
     ]
    }
   ],
   "source": [
    "\n",
    "# Exercise 1 - Find the sine of all the numbers in d\n",
    "np.sin(d)\n",
    "# Exercise 2 - Find the cosine of all the numbers in d\n",
    "np.cos(d)\n",
    "# Exercise 3 - Find the tangent of all the numbers in d\n",
    "np.tan(d)\n",
    "# Exercise 4 - Find all the negative numbers in d\n",
    "mask = np.array(d) < 0 \n",
    "np.array(d)[mask]\n",
    "# Exercise 5 - Find all the positive numbers in d\n",
    "np.array(d)[~mask]\n",
    "# Exercise 6 - Return an array of only the unique numbers in d.\n",
    "np.unique(d)\n",
    "# Exercise 7 - Determine how many unique numbers there are in d.\n",
    "print(len(np.unique(d)))\n",
    "# Exercise 8 - Print out the shape of d.\n",
    "print(np.shape(d))\n",
    "# Exercise 9 - Transpose and then print out the shape of d.\n",
    "print(np.transpose(d).shap)\n",
    "# Exercise 10 - Reshape d into an array of 9 x 2\n",
    "print(np.reshape(d,(9,2)))"
   ]
  },
  {
   "cell_type": "code",
   "execution_count": null,
   "id": "2bb774cf",
   "metadata": {},
   "outputs": [],
   "source": []
  }
 ],
 "metadata": {
  "kernelspec": {
   "display_name": "Python 3 (ipykernel)",
   "language": "python",
   "name": "python3"
  },
  "language_info": {
   "codemirror_mode": {
    "name": "ipython",
    "version": 3
   },
   "file_extension": ".py",
   "mimetype": "text/x-python",
   "name": "python",
   "nbconvert_exporter": "python",
   "pygments_lexer": "ipython3",
   "version": "3.9.13"
  }
 },
 "nbformat": 4,
 "nbformat_minor": 5
}
