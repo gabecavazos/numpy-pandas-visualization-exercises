{
 "cells": [
  {
   "cell_type": "code",
   "execution_count": 1,
   "id": "84164b7d",
   "metadata": {},
   "outputs": [],
   "source": [
    "import numpy as np\n",
    "import pandas as pd\n",
    "import matplotlib as plt"
   ]
  },
  {
   "cell_type": "code",
   "execution_count": 2,
   "id": "73740f18",
   "metadata": {},
   "outputs": [],
   "source": [
    "fruits_series = pd.Series([\"kiwi\", \"mango\", \"strawberry\", \"pineapple\", \"gala apple\", \"honeycrisp apple\", \"tomato\", \"watermelon\", \"honeydew\", \"kiwi\", \"kiwi\", \"kiwi\", \"mango\", \"blueberry\", \"blackberry\", \"gooseberry\", \"papaya\"])"
   ]
  },
  {
   "cell_type": "code",
   "execution_count": 3,
   "id": "eef60e1b",
   "metadata": {
    "scrolled": true
   },
   "outputs": [
    {
     "data": {
      "text/plain": [
       "0                 kiwi\n",
       "1                mango\n",
       "2           strawberry\n",
       "3            pineapple\n",
       "4           gala apple\n",
       "5     honeycrisp apple\n",
       "6               tomato\n",
       "7           watermelon\n",
       "8             honeydew\n",
       "9                 kiwi\n",
       "10                kiwi\n",
       "11                kiwi\n",
       "12               mango\n",
       "13           blueberry\n",
       "14          blackberry\n",
       "15          gooseberry\n",
       "16              papaya\n",
       "dtype: object"
      ]
     },
     "execution_count": 3,
     "metadata": {},
     "output_type": "execute_result"
    }
   ],
   "source": [
    "fruits_series"
   ]
  },
  {
   "cell_type": "code",
   "execution_count": 4,
   "id": "7818bdf3",
   "metadata": {},
   "outputs": [
    {
     "data": {
      "text/plain": [
       "17"
      ]
     },
     "execution_count": 4,
     "metadata": {},
     "output_type": "execute_result"
    }
   ],
   "source": [
    "#1\n",
    "fruits_series.size"
   ]
  },
  {
   "cell_type": "code",
   "execution_count": 5,
   "id": "4307da6e",
   "metadata": {},
   "outputs": [
    {
     "data": {
      "text/plain": [
       "RangeIndex(start=0, stop=17, step=1)"
      ]
     },
     "execution_count": 5,
     "metadata": {},
     "output_type": "execute_result"
    }
   ],
   "source": [
    "#2\n",
    "fruits_series.index"
   ]
  },
  {
   "cell_type": "code",
   "execution_count": 6,
   "id": "449d5ec2",
   "metadata": {},
   "outputs": [
    {
     "data": {
      "text/plain": [
       "array(['kiwi', 'mango', 'strawberry', 'pineapple', 'gala apple',\n",
       "       'honeycrisp apple', 'tomato', 'watermelon', 'honeydew', 'kiwi',\n",
       "       'kiwi', 'kiwi', 'mango', 'blueberry', 'blackberry', 'gooseberry',\n",
       "       'papaya'], dtype=object)"
      ]
     },
     "execution_count": 6,
     "metadata": {},
     "output_type": "execute_result"
    }
   ],
   "source": [
    "#3\n",
    "fruits_series.values"
   ]
  },
  {
   "cell_type": "code",
   "execution_count": 7,
   "id": "047198eb",
   "metadata": {},
   "outputs": [
    {
     "data": {
      "text/plain": [
       "dtype('O')"
      ]
     },
     "execution_count": 7,
     "metadata": {},
     "output_type": "execute_result"
    }
   ],
   "source": [
    "#4\n",
    "fruits_series.dtype"
   ]
  },
  {
   "cell_type": "code",
   "execution_count": 8,
   "id": "99fa7603",
   "metadata": {},
   "outputs": [
    {
     "data": {
      "text/plain": [
       "0          kiwi\n",
       "1         mango\n",
       "2    strawberry\n",
       "3     pineapple\n",
       "4    gala apple\n",
       "dtype: object"
      ]
     },
     "execution_count": 8,
     "metadata": {},
     "output_type": "execute_result"
    }
   ],
   "source": [
    "#5\n",
    "fruits_series.head()"
   ]
  },
  {
   "cell_type": "code",
   "execution_count": 9,
   "id": "50c45a49",
   "metadata": {},
   "outputs": [
    {
     "data": {
      "text/plain": [
       "0          kiwi\n",
       "1         mango\n",
       "2    strawberry\n",
       "3     pineapple\n",
       "4    gala apple\n",
       "dtype: object"
      ]
     },
     "execution_count": 9,
     "metadata": {},
     "output_type": "execute_result"
    }
   ],
   "source": [
    "fruits_series[:5]"
   ]
  },
  {
   "cell_type": "code",
   "execution_count": 10,
   "id": "73d30d19",
   "metadata": {},
   "outputs": [
    {
     "data": {
      "text/plain": [
       "14    blackberry\n",
       "15    gooseberry\n",
       "16        papaya\n",
       "dtype: object"
      ]
     },
     "execution_count": 10,
     "metadata": {},
     "output_type": "execute_result"
    }
   ],
   "source": [
    "fruits_series.tail(3)"
   ]
  },
  {
   "cell_type": "code",
   "execution_count": 11,
   "id": "c4592003",
   "metadata": {},
   "outputs": [
    {
     "data": {
      "text/plain": [
       "16       papaya\n",
       "13    blueberry\n",
       "dtype: object"
      ]
     },
     "execution_count": 11,
     "metadata": {},
     "output_type": "execute_result"
    }
   ],
   "source": [
    "fruits_series.sample(2)"
   ]
  },
  {
   "cell_type": "code",
   "execution_count": 12,
   "id": "f86966b5",
   "metadata": {},
   "outputs": [
    {
     "data": {
      "text/plain": [
       "count       17\n",
       "unique      13\n",
       "top       kiwi\n",
       "freq         4\n",
       "dtype: object"
      ]
     },
     "execution_count": 12,
     "metadata": {},
     "output_type": "execute_result"
    }
   ],
   "source": [
    "#6\n",
    "fruits_series.describe()"
   ]
  },
  {
   "cell_type": "code",
   "execution_count": 13,
   "id": "ebb0ffb3",
   "metadata": {},
   "outputs": [
    {
     "data": {
      "text/plain": [
       "array(['kiwi', 'mango', 'strawberry', 'pineapple', 'gala apple',\n",
       "       'honeycrisp apple', 'tomato', 'watermelon', 'honeydew',\n",
       "       'blueberry', 'blackberry', 'gooseberry', 'papaya'], dtype=object)"
      ]
     },
     "execution_count": 13,
     "metadata": {},
     "output_type": "execute_result"
    }
   ],
   "source": [
    "#7\n",
    "fruits_series.unique()"
   ]
  },
  {
   "cell_type": "code",
   "execution_count": 14,
   "id": "b6a33f67",
   "metadata": {},
   "outputs": [
    {
     "data": {
      "text/plain": [
       "13"
      ]
     },
     "execution_count": 14,
     "metadata": {},
     "output_type": "execute_result"
    }
   ],
   "source": [
    "fruits_series.nunique()"
   ]
  },
  {
   "cell_type": "code",
   "execution_count": 15,
   "id": "3776d621",
   "metadata": {},
   "outputs": [
    {
     "data": {
      "text/plain": [
       "kiwi                4\n",
       "mango               2\n",
       "strawberry          1\n",
       "pineapple           1\n",
       "gala apple          1\n",
       "honeycrisp apple    1\n",
       "tomato              1\n",
       "watermelon          1\n",
       "honeydew            1\n",
       "blueberry           1\n",
       "blackberry          1\n",
       "gooseberry          1\n",
       "papaya              1\n",
       "dtype: int64"
      ]
     },
     "execution_count": 15,
     "metadata": {},
     "output_type": "execute_result"
    }
   ],
   "source": [
    "#8\n",
    "fruits_series.value_counts()"
   ]
  },
  {
   "cell_type": "code",
   "execution_count": 16,
   "id": "adc0cb86",
   "metadata": {},
   "outputs": [
    {
     "data": {
      "text/plain": [
       "'kiwi'"
      ]
     },
     "execution_count": 16,
     "metadata": {},
     "output_type": "execute_result"
    }
   ],
   "source": [
    "#9\n",
    "fruits_series.describe()['top']"
   ]
  },
  {
   "cell_type": "code",
   "execution_count": 17,
   "id": "75bb7121",
   "metadata": {},
   "outputs": [
    {
     "data": {
      "text/plain": [
       "kiwi    4\n",
       "dtype: int64"
      ]
     },
     "execution_count": 17,
     "metadata": {},
     "output_type": "execute_result"
    }
   ],
   "source": [
    "fruits_series.value_counts().head(1)"
   ]
  },
  {
   "cell_type": "code",
   "execution_count": 18,
   "id": "1e9fc91c",
   "metadata": {},
   "outputs": [
    {
     "data": {
      "text/plain": [
       "kiwi    4\n",
       "dtype: int64"
      ]
     },
     "execution_count": 18,
     "metadata": {},
     "output_type": "execute_result"
    }
   ],
   "source": [
    "fruits_series.value_counts().nlargest(1)"
   ]
  },
  {
   "cell_type": "code",
   "execution_count": 19,
   "id": "a1ae11f2",
   "metadata": {},
   "outputs": [
    {
     "data": {
      "text/plain": [
       "papaya    1\n",
       "dtype: int64"
      ]
     },
     "execution_count": 19,
     "metadata": {},
     "output_type": "execute_result"
    }
   ],
   "source": [
    "#10\n",
    "fruits_series.value_counts().tail(1)"
   ]
  },
  {
   "cell_type": "code",
   "execution_count": 20,
   "id": "1ac6cfba",
   "metadata": {},
   "outputs": [
    {
     "data": {
      "text/plain": [
       "strawberry          1\n",
       "pineapple           1\n",
       "gala apple          1\n",
       "honeycrisp apple    1\n",
       "tomato              1\n",
       "watermelon          1\n",
       "honeydew            1\n",
       "blueberry           1\n",
       "blackberry          1\n",
       "gooseberry          1\n",
       "papaya              1\n",
       "dtype: int64"
      ]
     },
     "execution_count": 20,
     "metadata": {},
     "output_type": "execute_result"
    }
   ],
   "source": [
    "fruits_series.value_counts()[fruits_series.value_counts() == 1]"
   ]
  },
  {
   "cell_type": "code",
   "execution_count": 21,
   "id": "0d785d19",
   "metadata": {},
   "outputs": [
    {
     "data": {
      "text/plain": [
       "strawberry          1\n",
       "pineapple           1\n",
       "gala apple          1\n",
       "honeycrisp apple    1\n",
       "tomato              1\n",
       "watermelon          1\n",
       "honeydew            1\n",
       "blueberry           1\n",
       "blackberry          1\n",
       "gooseberry          1\n",
       "papaya              1\n",
       "dtype: int64"
      ]
     },
     "execution_count": 21,
     "metadata": {},
     "output_type": "execute_result"
    }
   ],
   "source": [
    "fruits_series.value_counts().nsmallest(1,keep = 'all')"
   ]
  },
  {
   "cell_type": "code",
   "execution_count": 22,
   "id": "2265c9c1",
   "metadata": {},
   "outputs": [
    {
     "data": {
      "text/plain": [
       "count    13.000000\n",
       "mean      1.307692\n",
       "std       0.854850\n",
       "min       1.000000\n",
       "25%       1.000000\n",
       "50%       1.000000\n",
       "75%       1.000000\n",
       "max       4.000000\n",
       "dtype: float64"
      ]
     },
     "execution_count": 22,
     "metadata": {},
     "output_type": "execute_result"
    }
   ],
   "source": [
    "fruits_series.value_counts().describe()"
   ]
  },
  {
   "cell_type": "code",
   "execution_count": 23,
   "id": "88cb58b7",
   "metadata": {},
   "outputs": [
    {
     "data": {
      "text/plain": [
       "0                 Kiwi\n",
       "1                Mango\n",
       "2           Strawberry\n",
       "3            Pineapple\n",
       "4           Gala apple\n",
       "5     Honeycrisp apple\n",
       "6               Tomato\n",
       "7           Watermelon\n",
       "8             Honeydew\n",
       "9                 Kiwi\n",
       "10                Kiwi\n",
       "11                Kiwi\n",
       "12               Mango\n",
       "13           Blueberry\n",
       "14          Blackberry\n",
       "15          Gooseberry\n",
       "16              Papaya\n",
       "dtype: object"
      ]
     },
     "execution_count": 23,
     "metadata": {},
     "output_type": "execute_result"
    }
   ],
   "source": [
    "#part 2\n",
    "#1\n",
    "fruits_series.str.capitalize()"
   ]
  },
  {
   "cell_type": "code",
   "execution_count": 24,
   "id": "d74c6810",
   "metadata": {},
   "outputs": [
    {
     "data": {
      "text/plain": [
       "0     0\n",
       "1     1\n",
       "2     1\n",
       "3     1\n",
       "4     3\n",
       "5     1\n",
       "6     1\n",
       "7     1\n",
       "8     0\n",
       "9     0\n",
       "10    0\n",
       "11    0\n",
       "12    1\n",
       "13    0\n",
       "14    1\n",
       "15    0\n",
       "16    3\n",
       "dtype: int64"
      ]
     },
     "execution_count": 24,
     "metadata": {},
     "output_type": "execute_result"
    }
   ],
   "source": [
    "#2\n",
    "fruits_series.apply(lambda x: x.count('a'))  "
   ]
  },
  {
   "cell_type": "code",
   "execution_count": 63,
   "id": "ded5ac6f",
   "metadata": {},
   "outputs": [
    {
     "data": {
      "text/plain": [
       "0     2\n",
       "1     2\n",
       "2     3\n",
       "3     4\n",
       "4     4\n",
       "5     6\n",
       "6     3\n",
       "7     4\n",
       "8     4\n",
       "9     2\n",
       "10    2\n",
       "11    2\n",
       "12    2\n",
       "13    4\n",
       "14    3\n",
       "15    5\n",
       "16    4\n",
       "dtype: int64"
      ]
     },
     "execution_count": 63,
     "metadata": {},
     "output_type": "execute_result"
    }
   ],
   "source": [
    "#3\n",
    "fruits_series.str.count('a'\n",
    ")+fruits_series.str.count('e'\n",
    ")+fruits_series.str.count('i'\n",
    ")+fruits_series.str.count('o'\n",
    ")+fruits_series.str.count('u'\n",
    ")+fruits_series.str.count('y'\n",
    ")+fruits_series.str.count('A'\n",
    ")+fruits_series.str.count('E'\n",
    ")+fruits_series.str.count('I'\n",
    ")+fruits_series.str.count('O'\n",
    ")+fruits_series.str.count('U'\n",
    ")+fruits_series.str.count('Y'\n",
    ")"
   ]
  },
  {
   "cell_type": "code",
   "execution_count": 64,
   "id": "04ce9323",
   "metadata": {},
   "outputs": [
    {
     "data": {
      "text/plain": [
       "0     2\n",
       "1     2\n",
       "2     2\n",
       "3     4\n",
       "4     4\n",
       "5     5\n",
       "6     3\n",
       "7     4\n",
       "8     3\n",
       "9     2\n",
       "10    2\n",
       "11    2\n",
       "12    2\n",
       "13    3\n",
       "14    2\n",
       "15    4\n",
       "16    3\n",
       "dtype: int64"
      ]
     },
     "execution_count": 64,
     "metadata": {},
     "output_type": "execute_result"
    }
   ],
   "source": [
    "fruits_series.str.count('[aeiou]')"
   ]
  },
  {
   "cell_type": "code",
   "execution_count": 26,
   "id": "3b9d21c4",
   "metadata": {},
   "outputs": [
    {
     "data": {
      "text/plain": [
       "16"
      ]
     },
     "execution_count": 26,
     "metadata": {},
     "output_type": "execute_result"
    }
   ],
   "source": [
    "#4\n",
    "fruits_series.str.len().max()"
   ]
  },
  {
   "cell_type": "code",
   "execution_count": 66,
   "id": "a5b2cc54",
   "metadata": {},
   "outputs": [
    {
     "data": {
      "text/plain": [
       "16"
      ]
     },
     "execution_count": 66,
     "metadata": {},
     "output_type": "execute_result"
    }
   ],
   "source": [
    "fruits_series.apply(len).max()"
   ]
  },
  {
   "cell_type": "code",
   "execution_count": 67,
   "id": "8d22e963",
   "metadata": {},
   "outputs": [
    {
     "data": {
      "text/plain": [
       "5    honeycrisp apple\n",
       "dtype: object"
      ]
     },
     "execution_count": 67,
     "metadata": {},
     "output_type": "execute_result"
    }
   ],
   "source": [
    "fruits_series[fruits_series.apply(len) == fruits_series.apply(len).max()]"
   ]
  },
  {
   "cell_type": "code",
   "execution_count": 27,
   "id": "6330a66a",
   "metadata": {},
   "outputs": [],
   "source": [
    "#5\n",
    "mask = (fruits_series.str.len() >= 5)"
   ]
  },
  {
   "cell_type": "code",
   "execution_count": 28,
   "id": "48e1223d",
   "metadata": {},
   "outputs": [
    {
     "data": {
      "text/plain": [
       "0     False\n",
       "1      True\n",
       "2      True\n",
       "3      True\n",
       "4      True\n",
       "5      True\n",
       "6      True\n",
       "7      True\n",
       "8      True\n",
       "9     False\n",
       "10    False\n",
       "11    False\n",
       "12     True\n",
       "13     True\n",
       "14     True\n",
       "15     True\n",
       "16     True\n",
       "dtype: bool"
      ]
     },
     "execution_count": 28,
     "metadata": {},
     "output_type": "execute_result"
    }
   ],
   "source": [
    "(fruits_series.str.len() >= 5)"
   ]
  },
  {
   "cell_type": "code",
   "execution_count": 68,
   "id": "5221da90",
   "metadata": {},
   "outputs": [
    {
     "data": {
      "text/plain": [
       "1                mango\n",
       "2           strawberry\n",
       "3            pineapple\n",
       "4           gala apple\n",
       "5     honeycrisp apple\n",
       "6               tomato\n",
       "7           watermelon\n",
       "8             honeydew\n",
       "12               mango\n",
       "13           blueberry\n",
       "14          blackberry\n",
       "15          gooseberry\n",
       "16              papaya\n",
       "dtype: object"
      ]
     },
     "execution_count": 68,
     "metadata": {},
     "output_type": "execute_result"
    }
   ],
   "source": [
    "fruits_series[fruits_series.str.len() >= 5]"
   ]
  },
  {
   "cell_type": "code",
   "execution_count": 29,
   "id": "fee06e0d",
   "metadata": {},
   "outputs": [
    {
     "data": {
      "text/plain": [
       "1                mango\n",
       "2           strawberry\n",
       "3            pineapple\n",
       "4           gala apple\n",
       "5     honeycrisp apple\n",
       "6               tomato\n",
       "7           watermelon\n",
       "8             honeydew\n",
       "12               mango\n",
       "13           blueberry\n",
       "14          blackberry\n",
       "15          gooseberry\n",
       "16              papaya\n",
       "dtype: object"
      ]
     },
     "execution_count": 29,
     "metadata": {},
     "output_type": "execute_result"
    }
   ],
   "source": [
    "fruits_series[mask]"
   ]
  },
  {
   "cell_type": "code",
   "execution_count": 30,
   "id": "69e93bc0",
   "metadata": {},
   "outputs": [],
   "source": [
    "#6\n",
    "mask = fruits_series.str.count('o') >= 2"
   ]
  },
  {
   "cell_type": "code",
   "execution_count": 31,
   "id": "34ed5916",
   "metadata": {},
   "outputs": [
    {
     "data": {
      "text/plain": [
       "6         tomato\n",
       "15    gooseberry\n",
       "dtype: object"
      ]
     },
     "execution_count": 31,
     "metadata": {},
     "output_type": "execute_result"
    }
   ],
   "source": [
    "fruits_series[mask]"
   ]
  },
  {
   "cell_type": "code",
   "execution_count": 32,
   "id": "640ff6d8",
   "metadata": {},
   "outputs": [
    {
     "data": {
      "text/plain": [
       "2     strawberry\n",
       "13     blueberry\n",
       "14    blackberry\n",
       "15    gooseberry\n",
       "dtype: object"
      ]
     },
     "execution_count": 32,
     "metadata": {},
     "output_type": "execute_result"
    }
   ],
   "source": [
    "#7\n",
    "fruits_series[fruits_series.str.endswith('berry')]"
   ]
  },
  {
   "cell_type": "code",
   "execution_count": 70,
   "id": "dde5ec78",
   "metadata": {},
   "outputs": [
    {
     "data": {
      "text/plain": [
       "2     strawberry\n",
       "13     blueberry\n",
       "14    blackberry\n",
       "15    gooseberry\n",
       "dtype: object"
      ]
     },
     "execution_count": 70,
     "metadata": {},
     "output_type": "execute_result"
    }
   ],
   "source": [
    "fruits_series[fruits_series.apply(lambda x: 'berry' in x)]"
   ]
  },
  {
   "cell_type": "code",
   "execution_count": 73,
   "id": "7f581064",
   "metadata": {},
   "outputs": [],
   "source": [
    "pd.Series.isin?"
   ]
  },
  {
   "cell_type": "code",
   "execution_count": 33,
   "id": "234c25d2",
   "metadata": {},
   "outputs": [
    {
     "data": {
      "text/plain": [
       "3           pineapple\n",
       "4          gala apple\n",
       "5    honeycrisp apple\n",
       "dtype: object"
      ]
     },
     "execution_count": 33,
     "metadata": {},
     "output_type": "execute_result"
    }
   ],
   "source": [
    "#8\n",
    "fruits_series[fruits_series.str.endswith('apple')]"
   ]
  },
  {
   "cell_type": "code",
   "execution_count": 34,
   "id": "c5c87de8",
   "metadata": {},
   "outputs": [],
   "source": [
    "#9\n",
    "fruits_series_vowelcount= fruits_series.str.count('a'\n",
    ")+fruits_series.str.count('e'\n",
    ")+fruits_series.str.count('i'\n",
    ")+fruits_series.str.count('o'\n",
    ")+fruits_series.str.count('u'\n",
    ")+fruits_series.str.count('y'\n",
    ")+fruits_series.str.count('A'\n",
    ")+fruits_series.str.count('E'\n",
    ")+fruits_series.str.count('I'\n",
    ")+fruits_series.str.count('O'\n",
    ")+fruits_series.str.count('U'\n",
    ")+fruits_series.str.count('Y'\n",
    ")"
   ]
  },
  {
   "cell_type": "code",
   "execution_count": 35,
   "id": "3b865418",
   "metadata": {},
   "outputs": [
    {
     "data": {
      "text/plain": [
       "5"
      ]
     },
     "execution_count": 35,
     "metadata": {},
     "output_type": "execute_result"
    }
   ],
   "source": [
    "fruits_series_vowelcount.sort_values(ascending=False).head(1).index[0]"
   ]
  },
  {
   "cell_type": "code",
   "execution_count": 36,
   "id": "3e6e5f8e",
   "metadata": {},
   "outputs": [
    {
     "data": {
      "text/plain": [
       "'honeycrisp apple'"
      ]
     },
     "execution_count": 36,
     "metadata": {},
     "output_type": "execute_result"
    }
   ],
   "source": [
    "fruits_series[fruits_series_vowelcount.sort_values(ascending=False).head(1).index[0]]"
   ]
  },
  {
   "cell_type": "code",
   "execution_count": 74,
   "id": "f609e382",
   "metadata": {},
   "outputs": [
    {
     "data": {
      "text/plain": [
       "5    honeycrisp apple\n",
       "dtype: object"
      ]
     },
     "execution_count": 74,
     "metadata": {},
     "output_type": "execute_result"
    }
   ],
   "source": [
    "fruits_series[fruits_series.str.count('[aeiou]') == fruits_series.str.count('[aeiou]').max()]"
   ]
  },
  {
   "cell_type": "code",
   "execution_count": 37,
   "id": "314c1c3e",
   "metadata": {},
   "outputs": [],
   "source": [
    "letters = pd.Series(list('hnvidduckkqxwymbimkccexbkmqygkxoyndmcxnwqarhyffsjpsrabtjzsypmzadfavyrnndndvswreauxovncxtwzpwejilzjrmmbbgbyxvjtewqthafnbkqplarokkyydtubbmnexoypulzwfhqvckdpqtpoppzqrmcvhhpwgjwupgzhiofohawytlsiyecuproguy'))"
   ]
  },
  {
   "cell_type": "code",
   "execution_count": 38,
   "id": "426f7a4a",
   "metadata": {},
   "outputs": [
    {
     "data": {
      "text/plain": [
       "count     200\n",
       "unique     26\n",
       "top         y\n",
       "freq       13\n",
       "dtype: object"
      ]
     },
     "execution_count": 38,
     "metadata": {},
     "output_type": "execute_result"
    }
   ],
   "source": [
    "#part III\n",
    "#1\n",
    "letters.describe()"
   ]
  },
  {
   "cell_type": "code",
   "execution_count": 39,
   "id": "dce0b1aa",
   "metadata": {},
   "outputs": [
    {
     "data": {
      "text/plain": [
       "l    4\n",
       "dtype: int64"
      ]
     },
     "execution_count": 39,
     "metadata": {},
     "output_type": "execute_result"
    }
   ],
   "source": [
    "#2\n",
    "letters.value_counts().tail(1)"
   ]
  },
  {
   "cell_type": "code",
   "execution_count": 40,
   "id": "69e5ef0b",
   "metadata": {},
   "outputs": [],
   "source": [
    "#3\n",
    "letters_vowels = letters[letters.apply(lambda x: x in ['a','e','i','o','u','y','A','E','I','O','U'])]\n",
    "letters_consonants = letters[~letters.apply(lambda x: x in ['a','e','i','o','u','y','A','E','I','O','U'])]"
   ]
  },
  {
   "cell_type": "code",
   "execution_count": 77,
   "id": "502a94b4",
   "metadata": {},
   "outputs": [
    {
     "data": {
      "text/plain": [
       "34"
      ]
     },
     "execution_count": 77,
     "metadata": {},
     "output_type": "execute_result"
    }
   ],
   "source": [
    "letters[letters.isin(['a','e','i','o','u'])].size"
   ]
  },
  {
   "cell_type": "code",
   "execution_count": 41,
   "id": "c2a79e74",
   "metadata": {},
   "outputs": [
    {
     "data": {
      "text/plain": [
       "y    13\n",
       "o     8\n",
       "a     8\n",
       "u     7\n",
       "e     6\n",
       "i     5\n",
       "dtype: int64"
      ]
     },
     "execution_count": 41,
     "metadata": {},
     "output_type": "execute_result"
    }
   ],
   "source": [
    "letters_vowels.value_counts()"
   ]
  },
  {
   "cell_type": "code",
   "execution_count": 42,
   "id": "756f2030",
   "metadata": {},
   "outputs": [
    {
     "data": {
      "text/plain": [
       "p    12\n",
       "w    10\n",
       "b     9\n",
       "n     9\n",
       "k     9\n",
       "m     9\n",
       "r     8\n",
       "h     8\n",
       "x     8\n",
       "q     8\n",
       "c     8\n",
       "d     8\n",
       "v     7\n",
       "t     7\n",
       "z     7\n",
       "f     6\n",
       "j     6\n",
       "g     5\n",
       "s     5\n",
       "l     4\n",
       "dtype: int64"
      ]
     },
     "execution_count": 42,
     "metadata": {},
     "output_type": "execute_result"
    }
   ],
   "source": [
    "#4\n",
    "letters_consonants.value_counts()"
   ]
  },
  {
   "cell_type": "code",
   "execution_count": 43,
   "id": "adcfdf0c",
   "metadata": {},
   "outputs": [
    {
     "data": {
      "text/plain": [
       "0      H\n",
       "1      N\n",
       "2      V\n",
       "3      I\n",
       "4      D\n",
       "      ..\n",
       "195    R\n",
       "196    O\n",
       "197    G\n",
       "198    U\n",
       "199    Y\n",
       "Length: 200, dtype: object"
      ]
     },
     "execution_count": 43,
     "metadata": {},
     "output_type": "execute_result"
    }
   ],
   "source": [
    "#5\n",
    "letters.str.upper()"
   ]
  },
  {
   "cell_type": "code",
   "execution_count": 44,
   "id": "7d4cf1d9",
   "metadata": {},
   "outputs": [
    {
     "data": {
      "text/plain": [
       "<AxesSubplot:>"
      ]
     },
     "execution_count": 44,
     "metadata": {},
     "output_type": "execute_result"
    },
    {
     "data": {
      "image/png": "[encoded data removed]",
      "text/plain": [
       "<Figure size 640x480 with 1 Axes>"
      ]
     },
     "metadata": {},
     "output_type": "display_data"
    }
   ],
   "source": [
    "#6\n",
    "letters.value_counts().head(6).plot.bar()"
   ]
  },
  {
   "cell_type": "code",
   "execution_count": 78,
   "id": "9168ca80",
   "metadata": {},
   "outputs": [
    {
     "data": {
      "text/plain": [
       "<AxesSubplot:title={'center':'most commonly occuring letters'}>"
      ]
     },
     "execution_count": 78,
     "metadata": {},
     "output_type": "execute_result"
    },
    {
     "data": {
      "image/png": "[encoded data removed]",
      "text/plain": [
       "<Figure size 640x480 with 1 Axes>"
      ]
     },
     "metadata": {},
     "output_type": "display_data"
    }
   ],
   "source": [
    "letters.value_counts().head(6).plot.bar(title = 'most commonly occuring letters')"
   ]
  },
  {
   "cell_type": "code",
   "execution_count": 45,
   "id": "4382e633",
   "metadata": {},
   "outputs": [],
   "source": [
    "numbers = pd.Series(['$796,459.41', '$278.60', '$482,571.67', '$4,503,915.98', '$2,121,418.3', '$1,260,813.3', '$87,231.01', '$1,509,175.45', '$4,138,548.00', '$2,848,913.80', '$594,715.39', '$4,789,988.17', '$4,513,644.5', '$3,191,059.97', '$1,758,712.24', '$4,338,283.54', '$4,738,303.38', '$2,791,759.67', '$769,681.94', '$452,650.23'])"
   ]
  },
  {
   "cell_type": "code",
   "execution_count": 46,
   "id": "4a1a3560",
   "metadata": {},
   "outputs": [
    {
     "data": {
      "text/plain": [
       "dtype('O')"
      ]
     },
     "execution_count": 46,
     "metadata": {},
     "output_type": "execute_result"
    }
   ],
   "source": [
    "#1\n",
    "numbers.dtype"
   ]
  },
  {
   "cell_type": "code",
   "execution_count": 47,
   "id": "aabe3c62",
   "metadata": {},
   "outputs": [
    {
     "data": {
      "text/plain": [
       "20"
      ]
     },
     "execution_count": 47,
     "metadata": {},
     "output_type": "execute_result"
    }
   ],
   "source": [
    "#2\n",
    "numbers.size"
   ]
  },
  {
   "cell_type": "code",
   "execution_count": 48,
   "id": "0899d7a4",
   "metadata": {},
   "outputs": [],
   "source": [
    "#3\n",
    "def is_decimal(value):\n",
    "    try:\n",
    "        float(value)\n",
    "        return True\n",
    "    except ValueError:\n",
    "        return False"
   ]
  },
  {
   "cell_type": "code",
   "execution_count": 79,
   "id": "1ee0044c",
   "metadata": {},
   "outputs": [
    {
     "name": "stderr",
     "output_type": "stream",
     "text": [
      "/var/folders/73/8c9znrxs6gv1sc4y9jvw8pvh0000gn/T/ipykernel_6346/3117660778.py:3: FutureWarning: The default value of regex will change from True to False in a future version. In addition, single character regular expressions will *not* be treated as literal strings when regex=True.\n",
      "  numbers_int = numbers.str.replace('$',\"\").str.replace(',','').astype(float).astype(int)\n"
     ]
    }
   ],
   "source": [
    "#3\n",
    "numbers_float = numbers.str.replace('$',\"\",regex=False).str.replace(',','',regex=False).astype(float)\n",
    "numbers_int = numbers.str.replace('$',\"\").str.replace(',','').astype(float).astype(int)"
   ]
  },
  {
   "cell_type": "code",
   "execution_count": 50,
   "id": "2d75a53d",
   "metadata": {},
   "outputs": [
    {
     "name": "stdout",
     "output_type": "stream",
     "text": [
      "4789988.17\n",
      "4789988\n"
     ]
    }
   ],
   "source": [
    "print(numbers_float.max())\n",
    "print(numbers_int.max())"
   ]
  },
  {
   "cell_type": "code",
   "execution_count": 51,
   "id": "56fae388",
   "metadata": {},
   "outputs": [
    {
     "data": {
      "text/plain": [
       "4789988.17"
      ]
     },
     "execution_count": 51,
     "metadata": {},
     "output_type": "execute_result"
    }
   ],
   "source": [
    "#4\n",
    "numbers_float.max()"
   ]
  },
  {
   "cell_type": "code",
   "execution_count": 82,
   "id": "b8740f07",
   "metadata": {},
   "outputs": [
    {
     "data": {
      "text/plain": [
       "11    4789988.17\n",
       "dtype: float64"
      ]
     },
     "execution_count": 82,
     "metadata": {},
     "output_type": "execute_result"
    }
   ],
   "source": [
    "numbers_float.nlargest(1)"
   ]
  },
  {
   "cell_type": "code",
   "execution_count": 52,
   "id": "cc04c384",
   "metadata": {},
   "outputs": [
    {
     "data": {
      "text/plain": [
       "278.6"
      ]
     },
     "execution_count": 52,
     "metadata": {},
     "output_type": "execute_result"
    }
   ],
   "source": [
    "#5\n",
    "numbers_float.min()"
   ]
  },
  {
   "cell_type": "code",
   "execution_count": 84,
   "id": "c0eabbca",
   "metadata": {},
   "outputs": [
    {
     "data": {
      "text/plain": [
       "1        278.60\n",
       "6      87231.01\n",
       "19    452650.23\n",
       "2     482571.67\n",
       "10    594715.39\n",
       "dtype: float64"
      ]
     },
     "execution_count": 84,
     "metadata": {},
     "output_type": "execute_result"
    }
   ],
   "source": [
    "numbers_float.nsmallest()"
   ]
  },
  {
   "cell_type": "code",
   "execution_count": 53,
   "id": "0bef59ae",
   "metadata": {},
   "outputs": [
    {
     "data": {
      "text/plain": [
       "count    2.000000e+01\n",
       "mean     2.284406e+06\n",
       "std      1.735261e+06\n",
       "min      2.786000e+02\n",
       "25%      7.259403e+05\n",
       "50%      1.940065e+06\n",
       "75%      4.188482e+06\n",
       "max      4.789988e+06\n",
       "dtype: float64"
      ]
     },
     "execution_count": 53,
     "metadata": {},
     "output_type": "execute_result"
    }
   ],
   "source": [
    "#6\n",
    "numbers_float.describe()"
   ]
  },
  {
   "cell_type": "code",
   "execution_count": 54,
   "id": "6118cb70",
   "metadata": {},
   "outputs": [
    {
     "data": {
      "text/plain": [
       "4789709.57"
      ]
     },
     "execution_count": 54,
     "metadata": {},
     "output_type": "execute_result"
    }
   ],
   "source": [
    "numbers_float.max()-numbers_float.min()"
   ]
  },
  {
   "cell_type": "code",
   "execution_count": 55,
   "id": "a4c28db0",
   "metadata": {},
   "outputs": [],
   "source": [
    "#7\n",
    "cut_int_numbers = pd.cut(numbers_int,4)"
   ]
  },
  {
   "cell_type": "code",
   "execution_count": 86,
   "id": "c44c3644",
   "metadata": {},
   "outputs": [
    {
     "data": {
      "text/plain": [
       "0             (725940.302, 1940065.27]\n",
       "1     (278.59900000000005, 725940.302]\n",
       "2     (278.59900000000005, 725940.302]\n",
       "3            (4188481.885, 4789988.17]\n",
       "4            (1940065.27, 4188481.885]\n",
       "5             (725940.302, 1940065.27]\n",
       "6     (278.59900000000005, 725940.302]\n",
       "7             (725940.302, 1940065.27]\n",
       "8            (1940065.27, 4188481.885]\n",
       "9            (1940065.27, 4188481.885]\n",
       "10    (278.59900000000005, 725940.302]\n",
       "11           (4188481.885, 4789988.17]\n",
       "12           (4188481.885, 4789988.17]\n",
       "13           (1940065.27, 4188481.885]\n",
       "14            (725940.302, 1940065.27]\n",
       "15           (4188481.885, 4789988.17]\n",
       "16           (4188481.885, 4789988.17]\n",
       "17           (1940065.27, 4188481.885]\n",
       "18            (725940.302, 1940065.27]\n",
       "19    (278.59900000000005, 725940.302]\n",
       "dtype: category\n",
       "Categories (4, interval[float64, right]): [(278.59900000000005, 725940.302] < (725940.302, 1940065.27] < (1940065.27, 4188481.885] < (4188481.885, 4789988.17]]"
      ]
     },
     "execution_count": 86,
     "metadata": {},
     "output_type": "execute_result"
    }
   ],
   "source": [
    "pd.qcut(numbers_float,4)"
   ]
  },
  {
   "cell_type": "code",
   "execution_count": 85,
   "id": "4bff9b66",
   "metadata": {},
   "outputs": [
    {
     "data": {
      "text/plain": [
       "(-4511.111, 1197705.993]      7\n",
       "(3592560.778, 4789988.17]     6\n",
       "(1197705.993, 2395133.385]    4\n",
       "(2395133.385, 3592560.778]    3\n",
       "dtype: int64"
      ]
     },
     "execution_count": 85,
     "metadata": {},
     "output_type": "execute_result"
    }
   ],
   "source": [
    "numbers_float.value_counts(bins=4)"
   ]
  },
  {
   "cell_type": "code",
   "execution_count": 56,
   "id": "1b1e5fe5",
   "metadata": {},
   "outputs": [
    {
     "name": "stdout",
     "output_type": "stream",
     "text": [
      "0      (-4511.71, 1197705.5]\n",
      "1      (-4511.71, 1197705.5]\n",
      "2      (-4511.71, 1197705.5]\n",
      "3     (3592560.5, 4789988.0]\n",
      "4     (1197705.5, 2395133.0]\n",
      "5     (1197705.5, 2395133.0]\n",
      "6      (-4511.71, 1197705.5]\n",
      "7     (1197705.5, 2395133.0]\n",
      "8     (3592560.5, 4789988.0]\n",
      "9     (2395133.0, 3592560.5]\n",
      "10     (-4511.71, 1197705.5]\n",
      "11    (3592560.5, 4789988.0]\n",
      "12    (3592560.5, 4789988.0]\n",
      "13    (2395133.0, 3592560.5]\n",
      "14    (1197705.5, 2395133.0]\n",
      "15    (3592560.5, 4789988.0]\n",
      "16    (3592560.5, 4789988.0]\n",
      "17    (2395133.0, 3592560.5]\n",
      "18     (-4511.71, 1197705.5]\n",
      "19     (-4511.71, 1197705.5]\n",
      "dtype: category\n",
      "Categories (4, interval[float64, right]): [(-4511.71, 1197705.5] < (1197705.5, 2395133.0] < (2395133.0, 3592560.5] < (3592560.5, 4789988.0]]\n"
     ]
    }
   ],
   "source": [
    "print(cut_int_numbers)"
   ]
  },
  {
   "cell_type": "code",
   "execution_count": 57,
   "id": "b1f66b15",
   "metadata": {},
   "outputs": [
    {
     "name": "stdout",
     "output_type": "stream",
     "text": [
      "<class 'pandas.core.series.Series'>\n",
      "category\n"
     ]
    }
   ],
   "source": [
    "print(type(cut_int_numbers))\n",
    "print(cut_int_numbers.dtype)"
   ]
  },
  {
   "cell_type": "code",
   "execution_count": 58,
   "id": "c5aadb5a",
   "metadata": {},
   "outputs": [
    {
     "data": {
      "text/plain": [
       "<AxesSubplot:>"
      ]
     },
     "execution_count": 58,
     "metadata": {},
     "output_type": "execute_result"
    },
    {
     "data": {
      "image/png": "[encoded data removed]",
      "text/plain": [
       "<Figure size 640x480 with 1 Axes>"
      ]
     },
     "metadata": {},
     "output_type": "display_data"
    }
   ],
   "source": [
    "#8\n",
    "cut_int_numbers.value_counts().plot.bar()"
   ]
  },
  {
   "cell_type": "code",
   "execution_count": 89,
   "id": "7f189793",
   "metadata": {},
   "outputs": [
    {
     "data": {
      "text/plain": [
       "[Text(0.5, 0, 'count of instances'), Text(0, 0.5, 'value bins in USD')]"
      ]
     },
     "execution_count": 89,
     "metadata": {},
     "output_type": "execute_result"
    },
    {
     "data": {
      "image/png": "[encoded data removed]",
      "text/plain": [
       "<Figure size 640x480 with 1 Axes>"
      ]
     },
     "metadata": {},
     "output_type": "display_data"
    }
   ],
   "source": [
    "pd.cut(numbers_float,4).value_counts().plot.barh(\n",
    "title = 'value counts of numerical bins').set(\n",
    "xlabel = 'count of instances', ylabel='value bins in USD')"
   ]
  },
  {
   "cell_type": "code",
   "execution_count": 90,
   "id": "30e20584",
   "metadata": {},
   "outputs": [
    {
     "data": {
      "text/plain": [
       "[Text(0.5, 0, 'count of instances'), Text(0, 0.5, 'value bins in USD')]"
      ]
     },
     "execution_count": 90,
     "metadata": {},
     "output_type": "execute_result"
    },
    {
     "data": {
      "image/png": "[encoded data removed]",
      "text/plain": [
       "<Figure size 640x480 with 1 Axes>"
      ]
     },
     "metadata": {},
     "output_type": "display_data"
    }
   ],
   "source": [
    "pd.qcut(numbers_float,4).value_counts().plot.barh(\n",
    "title = 'value counts of numerical bins').set(\n",
    "xlabel = 'count of instances', ylabel='value bins in USD')"
   ]
  },
  {
   "cell_type": "code",
   "execution_count": 59,
   "id": "9b4ab1d9",
   "metadata": {},
   "outputs": [],
   "source": [
    "#III\n",
    "exam_scores = pd.Series([60, 86, 75, 62, 93, 71, 60, 83, 95, 78, 65, 72, 69, 81, 96, 80, 85, 92, 82, 78])"
   ]
  },
  {
   "cell_type": "code",
   "execution_count": 60,
   "id": "c63a6228",
   "metadata": {},
   "outputs": [
    {
     "data": {
      "text/plain": [
       "20"
      ]
     },
     "execution_count": 60,
     "metadata": {},
     "output_type": "execute_result"
    }
   ],
   "source": [
    "#1\n",
    "exam_scores.size"
   ]
  },
  {
   "cell_type": "code",
   "execution_count": 61,
   "id": "e4e318e7",
   "metadata": {},
   "outputs": [
    {
     "data": {
      "text/plain": [
       "count    20.000000\n",
       "mean     78.150000\n",
       "std      11.352139\n",
       "min      60.000000\n",
       "25%      70.500000\n",
       "50%      79.000000\n",
       "75%      85.250000\n",
       "max      96.000000\n",
       "dtype: float64"
      ]
     },
     "execution_count": 61,
     "metadata": {},
     "output_type": "execute_result"
    }
   ],
   "source": [
    "#2\n",
    "exam_scores.describe()"
   ]
  },
  {
   "cell_type": "code",
   "execution_count": 94,
   "id": "b21425b7",
   "metadata": {
    "scrolled": true
   },
   "outputs": [
    {
     "data": {
      "text/plain": [
       "[Text(0.5, 0, 'grade bins'), Text(0, 0.5, 'student count')]"
      ]
     },
     "execution_count": 94,
     "metadata": {},
     "output_type": "execute_result"
    },
    {
     "data": {
      "image/png": "[encoded data removed]",
      "text/plain": [
       "<Figure size 640x480 with 1 Axes>"
      ]
     },
     "metadata": {},
     "output_type": "display_data"
    }
   ],
   "source": [
    "#3\n",
    "exam_scores.value_counts(bins=6).plot.bar(\n",
    "    title= 'exam scores by bin').set(\n",
    "    xlabel='grade bins',\n",
    "ylabel='student count')"
   ]
  },
  {
   "cell_type": "code",
   "execution_count": 96,
   "id": "718c2957",
   "metadata": {},
   "outputs": [
    {
     "data": {
      "text/plain": [
       "<AxesSubplot:title={'center':'grade distribution'}, ylabel='Frequency'>"
      ]
     },
     "execution_count": 96,
     "metadata": {},
     "output_type": "execute_result"
    },
    {
     "data": {
      "image/png": "[encoded data removed]",
      "text/plain": [
       "<Figure size 640x480 with 1 Axes>"
      ]
     },
     "metadata": {},
     "output_type": "display_data"
    }
   ],
   "source": [
    "exam_scores.plot.hist(title='grade distribution')"
   ]
  },
  {
   "cell_type": "code",
   "execution_count": 97,
   "id": "2a150a16",
   "metadata": {},
   "outputs": [],
   "source": [
    "#4\n",
    "\n",
    "curved_grades= exam_scores+(100-exam_scores.max())"
   ]
  },
  {
   "cell_type": "code",
   "execution_count": 102,
   "id": "d35aa74d",
   "metadata": {},
   "outputs": [],
   "source": [
    "#5\n",
    "letter_grades = pd.cut(curved_grades, \n",
    "       bins=[0,70,80,90,100], \n",
    "       labels=['F','C','B','A'])"
   ]
  },
  {
   "cell_type": "code",
   "execution_count": 105,
   "id": "afbaa2ff",
   "metadata": {},
   "outputs": [
    {
     "data": {
      "text/plain": [
       "[Text(0.5, 0, 'number of students'), Text(0, 0.5, 'letter grade')]"
      ]
     },
     "execution_count": 105,
     "metadata": {},
     "output_type": "execute_result"
    },
    {
     "data": {
      "image/png": "[encoded data removed]",
      "text/plain": [
       "<Figure size 640x480 with 1 Axes>"
      ]
     },
     "metadata": {},
     "output_type": "display_data"
    }
   ],
   "source": [
    "#6\n",
    "letter_grades.value_counts(\n",
    ").plot.barh(\n",
    "title='class grades by letter'\n",
    ").set(\n",
    "xlabel='number of students',\n",
    "ylabel='letter grade')"
   ]
  },
  {
   "cell_type": "code",
   "execution_count": null,
   "id": "9f3e5531",
   "metadata": {},
   "outputs": [],
   "source": []
  }
 ],
 "metadata": {
  "kernelspec": {
   "display_name": "Python 3 (ipykernel)",
   "language": "python",
   "name": "python3"
  },
  "language_info": {
   "codemirror_mode": {
    "name": "ipython",
    "version": 3
   },
   "file_extension": ".py",
   "mimetype": "text/x-python",
   "name": "python",
   "nbconvert_exporter": "python",
   "pygments_lexer": "ipython3",
   "version": "3.9.13"
  }
 },
 "nbformat": 4,
 "nbformat_minor": 5
}
