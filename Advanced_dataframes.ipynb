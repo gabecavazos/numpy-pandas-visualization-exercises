{
 "cells": [
  {
   "cell_type": "code",
   "execution_count": 5,
   "id": "898e76ff",
   "metadata": {},
   "outputs": [],
   "source": [
    "import pandas as pd\n",
    "import numpy as np\n",
    "from env import user, password, host"
   ]
  },
  {
   "cell_type": "code",
   "execution_count": 6,
   "id": "8ed50594",
   "metadata": {},
   "outputs": [],
   "source": [
    "#3\n",
    "def get_db_url(user,password,host,database_name):\n",
    "    url =  f'mysql+pymysql://{user}:{password}@{host}/{database_name}'\n",
    "    return url"
   ]
  },
  {
   "cell_type": "code",
   "execution_count": 7,
   "id": "9ecebe4f",
   "metadata": {},
   "outputs": [],
   "source": [
    "#4 create url\n",
    "url = get_db_url(user, password, host, 'employees')"
   ]
  },
  {
   "cell_type": "code",
   "execution_count": 8,
   "id": "2ec9b287",
   "metadata": {},
   "outputs": [
    {
     "data": {
      "text/html": [
       "<div>\n",
       "<style scoped>\n",
       "    .dataframe tbody tr th:only-of-type {\n",
       "        vertical-align: middle;\n",
       "    }\n",
       "\n",
       "    .dataframe tbody tr th {\n",
       "        vertical-align: top;\n",
       "    }\n",
       "\n",
       "    .dataframe thead th {\n",
       "        text-align: right;\n",
       "    }\n",
       "</style>\n",
       "<table border=\"1\" class=\"dataframe\">\n",
       "  <thead>\n",
       "    <tr style=\"text-align: right;\">\n",
       "      <th></th>\n",
       "      <th>emp_no</th>\n",
       "      <th>birth_date</th>\n",
       "      <th>first_name</th>\n",
       "      <th>last_name</th>\n",
       "      <th>gender</th>\n",
       "      <th>hire_date</th>\n",
       "    </tr>\n",
       "  </thead>\n",
       "  <tbody>\n",
       "    <tr>\n",
       "      <th>0</th>\n",
       "      <td>10001</td>\n",
       "      <td>1953-09-02</td>\n",
       "      <td>Georgi</td>\n",
       "      <td>Facello</td>\n",
       "      <td>M</td>\n",
       "      <td>1986-06-26</td>\n",
       "    </tr>\n",
       "    <tr>\n",
       "      <th>1</th>\n",
       "      <td>10002</td>\n",
       "      <td>1964-06-02</td>\n",
       "      <td>Bezalel</td>\n",
       "      <td>Simmel</td>\n",
       "      <td>F</td>\n",
       "      <td>1985-11-21</td>\n",
       "    </tr>\n",
       "    <tr>\n",
       "      <th>2</th>\n",
       "      <td>10003</td>\n",
       "      <td>1959-12-03</td>\n",
       "      <td>Parto</td>\n",
       "      <td>Bamford</td>\n",
       "      <td>M</td>\n",
       "      <td>1986-08-28</td>\n",
       "    </tr>\n",
       "    <tr>\n",
       "      <th>3</th>\n",
       "      <td>10004</td>\n",
       "      <td>1954-05-01</td>\n",
       "      <td>Chirstian</td>\n",
       "      <td>Koblick</td>\n",
       "      <td>M</td>\n",
       "      <td>1986-12-01</td>\n",
       "    </tr>\n",
       "    <tr>\n",
       "      <th>4</th>\n",
       "      <td>10005</td>\n",
       "      <td>1955-01-21</td>\n",
       "      <td>Kyoichi</td>\n",
       "      <td>Maliniak</td>\n",
       "      <td>M</td>\n",
       "      <td>1989-09-12</td>\n",
       "    </tr>\n",
       "  </tbody>\n",
       "</table>\n",
       "</div>"
      ],
      "text/plain": [
       "   emp_no  birth_date first_name last_name gender   hire_date\n",
       "0   10001  1953-09-02     Georgi   Facello      M  1986-06-26\n",
       "1   10002  1964-06-02    Bezalel    Simmel      F  1985-11-21\n",
       "2   10003  1959-12-03      Parto   Bamford      M  1986-08-28\n",
       "3   10004  1954-05-01  Chirstian   Koblick      M  1986-12-01\n",
       "4   10005  1955-01-21    Kyoichi  Maliniak      M  1989-09-12"
      ]
     },
     "execution_count": 8,
     "metadata": {},
     "output_type": "execute_result"
    }
   ],
   "source": [
    "#5\n",
    "pd.read_sql('''\n",
    "SELECT * \n",
    "FROM employees \n",
    "LIMIT 5''', url)"
   ]
  },
  {
   "cell_type": "code",
   "execution_count": null,
   "id": "92d4f774",
   "metadata": {},
   "outputs": [],
   "source": [
    "#5a error message from typo in url\n",
    "url = get_db_url(user, password, host, 'employee')\n",
    "pd.read_sql('''\n",
    "SELECT * \n",
    "FROM employees \n",
    "LIMIT 5''', url)"
   ]
  },
  {
   "cell_type": "code",
   "execution_count": null,
   "id": "83a7f85d",
   "metadata": {},
   "outputs": [],
   "source": [
    "#OperationalError: (pymysql.err.OperationalError) \n",
    "#(1044, \"Access denied for user 'oneil_2102'@'%' to database 'employee'\")"
   ]
  },
  {
   "cell_type": "code",
   "execution_count": null,
   "id": "4aaa56bb",
   "metadata": {},
   "outputs": [],
   "source": [
    "#5b typo in query\n",
    "url = get_db_url(user, password, host, 'employees')\n",
    "pd.read_sql('''\n",
    "SELECT * \n",
    "FROM emp \n",
    "LIMIT 5''', url)"
   ]
  },
  {
   "cell_type": "code",
   "execution_count": null,
   "id": "766a4f76",
   "metadata": {},
   "outputs": [],
   "source": [
    "#1146, \"Table 'employees.emp' doesn't exist\""
   ]
  },
  {
   "cell_type": "code",
   "execution_count": 13,
   "id": "11054c59",
   "metadata": {},
   "outputs": [],
   "source": [
    "#6\n",
    "url = get_db_url(user, password, host, 'employees')\n",
    "df1 = pd.read_sql('''\n",
    "SELECT * \n",
    "FROM employees \n",
    "''', url)"
   ]
  },
  {
   "cell_type": "code",
   "execution_count": 14,
   "id": "abda0a85",
   "metadata": {},
   "outputs": [],
   "source": [
    "url = get_db_url(user, password, host, 'employees')\n",
    "df2 = pd.read_sql('''\n",
    "SELECT * \n",
    "FROM titles \n",
    "''', url)"
   ]
  },
  {
   "cell_type": "code",
   "execution_count": 15,
   "id": "cf4dac99",
   "metadata": {},
   "outputs": [
    {
     "data": {
      "text/plain": [
       "(300024, 6)"
      ]
     },
     "execution_count": 15,
     "metadata": {},
     "output_type": "execute_result"
    }
   ],
   "source": [
    "#7 number of rows and columns\n",
    "df1.shape"
   ]
  },
  {
   "cell_type": "code",
   "execution_count": 16,
   "id": "b249ffae",
   "metadata": {},
   "outputs": [
    {
     "data": {
      "text/plain": [
       "(443308, 4)"
      ]
     },
     "execution_count": 16,
     "metadata": {},
     "output_type": "execute_result"
    }
   ],
   "source": [
    "df2.shape"
   ]
  },
  {
   "cell_type": "code",
   "execution_count": 18,
   "id": "cb6e7005",
   "metadata": {},
   "outputs": [
    {
     "data": {
      "text/html": [
       "<div>\n",
       "<style scoped>\n",
       "    .dataframe tbody tr th:only-of-type {\n",
       "        vertical-align: middle;\n",
       "    }\n",
       "\n",
       "    .dataframe tbody tr th {\n",
       "        vertical-align: top;\n",
       "    }\n",
       "\n",
       "    .dataframe thead th {\n",
       "        text-align: right;\n",
       "    }\n",
       "</style>\n",
       "<table border=\"1\" class=\"dataframe\">\n",
       "  <thead>\n",
       "    <tr style=\"text-align: right;\">\n",
       "      <th></th>\n",
       "      <th>emp_no</th>\n",
       "    </tr>\n",
       "  </thead>\n",
       "  <tbody>\n",
       "    <tr>\n",
       "      <th>count</th>\n",
       "      <td>300024.000000</td>\n",
       "    </tr>\n",
       "    <tr>\n",
       "      <th>mean</th>\n",
       "      <td>253321.763392</td>\n",
       "    </tr>\n",
       "    <tr>\n",
       "      <th>std</th>\n",
       "      <td>161828.235540</td>\n",
       "    </tr>\n",
       "    <tr>\n",
       "      <th>min</th>\n",
       "      <td>10001.000000</td>\n",
       "    </tr>\n",
       "    <tr>\n",
       "      <th>25%</th>\n",
       "      <td>85006.750000</td>\n",
       "    </tr>\n",
       "    <tr>\n",
       "      <th>50%</th>\n",
       "      <td>249987.500000</td>\n",
       "    </tr>\n",
       "    <tr>\n",
       "      <th>75%</th>\n",
       "      <td>424993.250000</td>\n",
       "    </tr>\n",
       "    <tr>\n",
       "      <th>max</th>\n",
       "      <td>499999.000000</td>\n",
       "    </tr>\n",
       "  </tbody>\n",
       "</table>\n",
       "</div>"
      ],
      "text/plain": [
       "              emp_no\n",
       "count  300024.000000\n",
       "mean   253321.763392\n",
       "std    161828.235540\n",
       "min     10001.000000\n",
       "25%     85006.750000\n",
       "50%    249987.500000\n",
       "75%    424993.250000\n",
       "max    499999.000000"
      ]
     },
     "execution_count": 18,
     "metadata": {},
     "output_type": "execute_result"
    }
   ],
   "source": [
    "#8 more info\n",
    "df1.describe()"
   ]
  },
  {
   "cell_type": "code",
   "execution_count": 19,
   "id": "ed0c371b",
   "metadata": {},
   "outputs": [
    {
     "data": {
      "text/html": [
       "<div>\n",
       "<style scoped>\n",
       "    .dataframe tbody tr th:only-of-type {\n",
       "        vertical-align: middle;\n",
       "    }\n",
       "\n",
       "    .dataframe tbody tr th {\n",
       "        vertical-align: top;\n",
       "    }\n",
       "\n",
       "    .dataframe thead th {\n",
       "        text-align: right;\n",
       "    }\n",
       "</style>\n",
       "<table border=\"1\" class=\"dataframe\">\n",
       "  <thead>\n",
       "    <tr style=\"text-align: right;\">\n",
       "      <th></th>\n",
       "      <th>emp_no</th>\n",
       "    </tr>\n",
       "  </thead>\n",
       "  <tbody>\n",
       "    <tr>\n",
       "      <th>count</th>\n",
       "      <td>443308.000000</td>\n",
       "    </tr>\n",
       "    <tr>\n",
       "      <th>mean</th>\n",
       "      <td>253075.034430</td>\n",
       "    </tr>\n",
       "    <tr>\n",
       "      <th>std</th>\n",
       "      <td>161853.292613</td>\n",
       "    </tr>\n",
       "    <tr>\n",
       "      <th>min</th>\n",
       "      <td>10001.000000</td>\n",
       "    </tr>\n",
       "    <tr>\n",
       "      <th>25%</th>\n",
       "      <td>84855.750000</td>\n",
       "    </tr>\n",
       "    <tr>\n",
       "      <th>50%</th>\n",
       "      <td>249847.500000</td>\n",
       "    </tr>\n",
       "    <tr>\n",
       "      <th>75%</th>\n",
       "      <td>424891.250000</td>\n",
       "    </tr>\n",
       "    <tr>\n",
       "      <th>max</th>\n",
       "      <td>499999.000000</td>\n",
       "    </tr>\n",
       "  </tbody>\n",
       "</table>\n",
       "</div>"
      ],
      "text/plain": [
       "              emp_no\n",
       "count  443308.000000\n",
       "mean   253075.034430\n",
       "std    161853.292613\n",
       "min     10001.000000\n",
       "25%     84855.750000\n",
       "50%    249847.500000\n",
       "75%    424891.250000\n",
       "max    499999.000000"
      ]
     },
     "execution_count": 19,
     "metadata": {},
     "output_type": "execute_result"
    }
   ],
   "source": [
    "df2.describe()"
   ]
  },
  {
   "cell_type": "code",
   "execution_count": 22,
   "id": "77a2d6c5",
   "metadata": {},
   "outputs": [
    {
     "data": {
      "text/plain": [
       "array(['Senior Engineer', 'Staff', 'Engineer', 'Senior Staff',\n",
       "       'Assistant Engineer', 'Technique Leader', 'Manager'], dtype=object)"
      ]
     },
     "execution_count": 22,
     "metadata": {},
     "output_type": "execute_result"
    }
   ],
   "source": [
    "#9 unique titles in titles\n",
    "df2['title'].unique()"
   ]
  },
  {
   "cell_type": "code",
   "execution_count": 24,
   "id": "97664ce3",
   "metadata": {},
   "outputs": [
    {
     "data": {
      "text/plain": [
       "7"
      ]
     },
     "execution_count": 24,
     "metadata": {},
     "output_type": "execute_result"
    }
   ],
   "source": [
    "df2.title.nunique()"
   ]
  },
  {
   "cell_type": "code",
   "execution_count": 26,
   "id": "37b9787a",
   "metadata": {},
   "outputs": [
    {
     "data": {
      "text/plain": [
       "datetime.date(1985, 3, 1)"
      ]
     },
     "execution_count": 26,
     "metadata": {},
     "output_type": "execute_result"
    }
   ],
   "source": [
    "#10 oldest dat in to_date\n",
    "df2.to_date.min()"
   ]
  },
  {
   "cell_type": "code",
   "execution_count": 27,
   "id": "13a42668",
   "metadata": {},
   "outputs": [
    {
     "data": {
      "text/plain": [
       "datetime.date(2002, 8, 1)"
      ]
     },
     "execution_count": 27,
     "metadata": {},
     "output_type": "execute_result"
    }
   ],
   "source": [
    "#11 most recent date in the to_date\n",
    "df2.to_date[df2.to_date != df2.to_date.max()].max()"
   ]
  },
  {
   "cell_type": "code",
   "execution_count": null,
   "id": "1e814e62",
   "metadata": {},
   "outputs": [],
   "source": []
  }
 ],
 "metadata": {
  "kernelspec": {
   "display_name": "Python 3 (ipykernel)",
   "language": "python",
   "name": "python3"
  },
  "language_info": {
   "codemirror_mode": {
    "name": "ipython",
    "version": 3
   },
   "file_extension": ".py",
   "mimetype": "text/x-python",
   "name": "python",
   "nbconvert_exporter": "python",
   "pygments_lexer": "ipython3",
   "version": "3.9.13"
  }
 },
 "nbformat": 4,
 "nbformat_minor": 5
}
