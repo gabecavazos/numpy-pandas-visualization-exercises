{
 "cells": [
  {
   "cell_type": "code",
   "execution_count": null,
   "id": "3bb66f67",
   "metadata": {},
   "outputs": [],
   "source": [
    "# Imported libraries\n",
    "import pandas as pd\n",
    "\n",
    "# Numpy to build arrays\n",
    "import numpy as np\n",
    "\n",
    "# Source of datasets\n",
    "from pydataset import data\n",
    "\n",
    "# Set a value to initialize the random integer generation\n",
    "np.random.seed(123)\n",
    "\n",
    "\n",
    "# Create a list of students\n",
    "students = ['Sally', 'Jane', 'Suzie', 'Billy', 'Ada', 'John', 'Thomas', 'Marie', 'Albert', 'Richard', 'Isaac', 'Alan']\n",
    "\n",
    "# Randomly generate 12 scores for each subject (1 per student)\n",
    "# Store values as arrays\n",
    "# Note that all the values need to have the same length here\n",
    "\n",
    "math_grades = np.random.randint(low=60, high=100, size=len(students))\n",
    "\n",
    "english_grades = np.random.randint(low=60, high=100, size=len(students))\n",
    "\n",
    "reading_grades = np.random.randint(low=60, high=100, size=len(students))\n",
    "\n",
    "# Create a dictionary with structure:\n",
    "# 'column_name': <array or list>\n",
    "\n",
    "df_dict = {'name': students,\n",
    "                   'math': math_grades,\n",
    "                   'english': english_grades,\n",
    "                   'reading': reading_grades}\n",
    "# Use pd.DataFrame\n",
    "df = pd.DataFrame(df_dict)\n",
    "\n",
    "# View the type\n",
    "type(df)"
   ]
  },
  {
   "cell_type": "code",
   "execution_count": null,
   "id": "3075ad11",
   "metadata": {},
   "outputs": [],
   "source": [
    "#1\n",
    "#A Create a column named passing_english that indicates whether each student has a passing grade in english.\n",
    "df['passing_english'] = df.english >= 70"
   ]
  },
  {
   "cell_type": "code",
   "execution_count": null,
   "id": "760e1cff",
   "metadata": {},
   "outputs": [],
   "source": [
    "df"
   ]
  },
  {
   "cell_type": "code",
   "execution_count": null,
   "id": "1f308af6",
   "metadata": {},
   "outputs": [],
   "source": [
    "#Sort the english grades by the passing_english column. How are duplicates handled?\n",
    "df.sort_values(by = 'passing_english')\n",
    "#duplicate values are included\n",
    "#first you get falses then it goes by index"
   ]
  },
  {
   "cell_type": "code",
   "execution_count": null,
   "id": "a4070c36",
   "metadata": {},
   "outputs": [],
   "source": [
    "#Sort the english grades first by passing_english and then by student name. \n",
    "#All the students that are failing english should be first, and within the students that are failing \n",
    "#english they should be ordered alphabetically. The same should be true for the students passing english. \n",
    "#(Hint: you can pass a list to the .sort_values method)\n",
    "english_grades = df['english'].to_list()\n",
    "df.sort_values(by= 'passing_english')"
   ]
  },
  {
   "cell_type": "code",
   "execution_count": null,
   "id": "ea697cdc",
   "metadata": {},
   "outputs": [],
   "source": [
    "cols_to_sort = ['passing_english','name']"
   ]
  },
  {
   "cell_type": "code",
   "execution_count": null,
   "id": "e9d68db2",
   "metadata": {},
   "outputs": [],
   "source": [
    "df.sort_values(cols_to_sort)"
   ]
  },
  {
   "cell_type": "code",
   "execution_count": null,
   "id": "8d2d3302",
   "metadata": {},
   "outputs": [],
   "source": [
    "pd.Series.sort_values?"
   ]
  },
  {
   "cell_type": "code",
   "execution_count": null,
   "id": "c91b0ead",
   "metadata": {},
   "outputs": [],
   "source": [
    "#Sort the english grades first by passing_english, \n",
    "#and then by the actual english grade, similar to how we did in the last step.\n",
    "df.sort_values('passing_english').sort_values('english')"
   ]
  },
  {
   "cell_type": "code",
   "execution_count": null,
   "id": "bcbedeb4",
   "metadata": {},
   "outputs": [],
   "source": [
    "df.sort_values(by = ['passing_english','english'],ascending=False)"
   ]
  },
  {
   "cell_type": "code",
   "execution_count": null,
   "id": "fb738b99",
   "metadata": {},
   "outputs": [],
   "source": [
    "#Calculate each students overall grade and add it as a column on the dataframe. \n",
    "#The overall grade is the average of the math, english, and reading grades.\n",
    "df['Overall Grade'] = round((df.english + df.math + df.reading) /3,0).astype(int)"
   ]
  },
  {
   "cell_type": "code",
   "execution_count": null,
   "id": "3d29d6be",
   "metadata": {},
   "outputs": [],
   "source": [
    "df"
   ]
  },
  {
   "cell_type": "markdown",
   "id": "3ea870a6",
   "metadata": {},
   "source": [
    "## Load the mpg dataset. Read the documentation for the dataset and use it for the following questions:"
   ]
  },
  {
   "cell_type": "code",
   "execution_count": null,
   "id": "4e14797e",
   "metadata": {},
   "outputs": [],
   "source": [
    "data('mpg', show_doc=True)"
   ]
  },
  {
   "cell_type": "code",
   "execution_count": null,
   "id": "b7f5912c",
   "metadata": {},
   "outputs": [],
   "source": [
    "data('mpg').info()"
   ]
  },
  {
   "cell_type": "code",
   "execution_count": null,
   "id": "b11eb7ff",
   "metadata": {},
   "outputs": [],
   "source": [
    "#How many rows and columns are there?\n",
    "data('mpg').shape"
   ]
  },
  {
   "cell_type": "code",
   "execution_count": null,
   "id": "67d8f98d",
   "metadata": {},
   "outputs": [],
   "source": [
    "#What are the data types of each column?\n",
    "data('mpg').dtypes"
   ]
  },
  {
   "cell_type": "code",
   "execution_count": null,
   "id": "77b5b5c6",
   "metadata": {},
   "outputs": [],
   "source": [
    "#Summarize the dataframe with .info and .describe\n",
    "data('mpg').info()"
   ]
  },
  {
   "cell_type": "code",
   "execution_count": null,
   "id": "02248d77",
   "metadata": {},
   "outputs": [],
   "source": [
    "data('mpg').describe()"
   ]
  },
  {
   "cell_type": "code",
   "execution_count": null,
   "id": "ae39463e",
   "metadata": {},
   "outputs": [],
   "source": [
    "data('mpg').describe().round(2)"
   ]
  },
  {
   "cell_type": "code",
   "execution_count": null,
   "id": "243af2d1",
   "metadata": {},
   "outputs": [],
   "source": [
    "mpg=data('mpg')"
   ]
  },
  {
   "cell_type": "code",
   "execution_count": null,
   "id": "528a11a6",
   "metadata": {},
   "outputs": [],
   "source": [
    "#Rename the cty column to city.\n",
    "mpg = mpg.rename(columns={'cty':'city'})"
   ]
  },
  {
   "cell_type": "code",
   "execution_count": null,
   "id": "7a156351",
   "metadata": {},
   "outputs": [],
   "source": [
    "#mpg.rename(columns={'cty':'city'},inplace=True)"
   ]
  },
  {
   "cell_type": "code",
   "execution_count": null,
   "id": "eb0b53ba",
   "metadata": {},
   "outputs": [],
   "source": [
    "#mpg.columns = ['col1','col2']"
   ]
  },
  {
   "cell_type": "code",
   "execution_count": null,
   "id": "9ce8cf24",
   "metadata": {},
   "outputs": [],
   "source": [
    "#Rename the hwy column to highway.\n",
    "mpg = mpg.rename(columns={'hwy':'highway'})\n",
    "mpg"
   ]
  },
  {
   "cell_type": "code",
   "execution_count": null,
   "id": "b5643a17",
   "metadata": {},
   "outputs": [],
   "source": [
    "#Do any cars have better city mileage than highway mileage?\n",
    "(mpg.city > mpg.highway).any()\n",
    "#no"
   ]
  },
  {
   "cell_type": "code",
   "execution_count": null,
   "id": "d34c57b6",
   "metadata": {},
   "outputs": [],
   "source": [
    "mask = mpg.city > mpg.highway"
   ]
  },
  {
   "cell_type": "code",
   "execution_count": null,
   "id": "afeea39f",
   "metadata": {},
   "outputs": [],
   "source": [
    "len(mpg[mask])"
   ]
  },
  {
   "cell_type": "code",
   "execution_count": null,
   "id": "6c195e23",
   "metadata": {},
   "outputs": [],
   "source": [
    "#Create a column named mileage_difference this column should contain the difference between highway and city mileage for each car.\n",
    "mpg['milage_difference'] = mpg.highway - mpg.city\n",
    "mpg"
   ]
  },
  {
   "cell_type": "code",
   "execution_count": null,
   "id": "799ed644",
   "metadata": {},
   "outputs": [],
   "source": [
    "mpg[['highway','city','milage_difference']]"
   ]
  },
  {
   "cell_type": "code",
   "execution_count": null,
   "id": "8117cc3d",
   "metadata": {},
   "outputs": [],
   "source": [
    "#Which car (or cars) has the highest mileage difference?\n",
    "mpg.sort_values('milage_difference',ascending=False).head()"
   ]
  },
  {
   "cell_type": "code",
   "execution_count": null,
   "id": "e06b3c5a",
   "metadata": {},
   "outputs": [],
   "source": [
    "mpg[mpg['milage_difference'] == mpg['milage_difference'].max()]"
   ]
  },
  {
   "cell_type": "code",
   "execution_count": null,
   "id": "13ba091a",
   "metadata": {},
   "outputs": [],
   "source": [
    "mpg[mpg['milage_difference'] == mpg['milage_difference'].min()]"
   ]
  },
  {
   "cell_type": "code",
   "execution_count": null,
   "id": "f34be253",
   "metadata": {},
   "outputs": [],
   "source": [
    "compacts = mpg[mpg['class'] == 'compact']"
   ]
  },
  {
   "cell_type": "code",
   "execution_count": null,
   "id": "9246e2da",
   "metadata": {},
   "outputs": [],
   "source": [
    "#Which compact class car has the lowest highway mileage? The best?\n",
    "mpg[mpg['class'] == 'compact'].sort_values('highway').head(1)"
   ]
  },
  {
   "cell_type": "code",
   "execution_count": null,
   "id": "8d02309c",
   "metadata": {},
   "outputs": [],
   "source": [
    "compacts[(compacts.highway == compacts.highway.max())]"
   ]
  },
  {
   "cell_type": "code",
   "execution_count": null,
   "id": "94948f69",
   "metadata": {},
   "outputs": [],
   "source": [
    "compacts[(compacts.highway == compacts.highway.min())]"
   ]
  },
  {
   "cell_type": "code",
   "execution_count": null,
   "id": "5fc76592",
   "metadata": {},
   "outputs": [],
   "source": [
    "mpg[mpg['class'] == 'compact'].sort_values('highway').tail(1)"
   ]
  },
  {
   "cell_type": "code",
   "execution_count": null,
   "id": "0a677c16",
   "metadata": {},
   "outputs": [],
   "source": []
  },
  {
   "cell_type": "code",
   "execution_count": null,
   "id": "3902b29b",
   "metadata": {},
   "outputs": [],
   "source": [
    "#Create a column named average_mileage that is the mean of the city and highway mileage.\n",
    "mpg['average_milage'] = (mpg.city + mpg.highway) /2\n",
    "mpg"
   ]
  },
  {
   "cell_type": "code",
   "execution_count": null,
   "id": "4a32200b",
   "metadata": {},
   "outputs": [],
   "source": [
    "mpg['class'].unique()"
   ]
  },
  {
   "cell_type": "code",
   "execution_count": null,
   "id": "967a0314",
   "metadata": {},
   "outputs": [],
   "source": [
    "car = ['compact', 'midsize', '2seater', 'subcompact']"
   ]
  },
  {
   "cell_type": "code",
   "execution_count": null,
   "id": "785dd9ba",
   "metadata": {},
   "outputs": [],
   "source": [
    "dodges = mpg[mpg.manufacturer == 'dodge']\n",
    "dodges.model"
   ]
  },
  {
   "cell_type": "code",
   "execution_count": null,
   "id": "5aacdea3",
   "metadata": {},
   "outputs": [],
   "source": [
    "mpg[(mpg['class'].isin(car)) & (mpg['manufacturer'] == 'dodge')].shape"
   ]
  },
  {
   "cell_type": "code",
   "execution_count": null,
   "id": "ba1a675d",
   "metadata": {},
   "outputs": [],
   "source": [
    "#Which dodge car has the best average mileage? The worst?\n",
    "mpg[mpg.manufacturer == 'dodge'].sort_values('average_milage',ascending=False).head(1)"
   ]
  },
  {
   "cell_type": "code",
   "execution_count": null,
   "id": "46347704",
   "metadata": {},
   "outputs": [],
   "source": [
    "dodges[dodges.average_milage == dodges.average_milage.min()]"
   ]
  },
  {
   "cell_type": "code",
   "execution_count": null,
   "id": "591df426",
   "metadata": {},
   "outputs": [],
   "source": [
    "mpg[mpg['manufacturer'] == 'dodge'].sort_values('average_milage').head(1)"
   ]
  },
  {
   "cell_type": "code",
   "execution_count": null,
   "id": "b8859ee6",
   "metadata": {},
   "outputs": [],
   "source": [
    "mpg[(mpg['class'].isin(car)) & (mpg['manufacturer'] == 'dodge')].shape"
   ]
  },
  {
   "cell_type": "markdown",
   "id": "47466bae",
   "metadata": {},
   "source": [
    "# there are no dodge cars in mpg"
   ]
  },
  {
   "cell_type": "code",
   "execution_count": null,
   "id": "26f0873d",
   "metadata": {},
   "outputs": [],
   "source": [
    "def show_dimension(data):\n",
    "    n_rows=data.shape[0]\n",
    "    n_cols=data.shape[1]\n",
    "    print(f'number of rows:{n_rows}\\n\\n number of columns:{n_cols}')"
   ]
  },
  {
   "cell_type": "markdown",
   "id": "c89b17fb",
   "metadata": {},
   "source": [
    "## Load the Mammals dataset. Read the documentation for it, and use the data to answer these questions:"
   ]
  },
  {
   "cell_type": "code",
   "execution_count": null,
   "id": "176b6db5",
   "metadata": {},
   "outputs": [],
   "source": [
    "mammals = data('Mammals')"
   ]
  },
  {
   "cell_type": "code",
   "execution_count": null,
   "id": "2d1f968d",
   "metadata": {},
   "outputs": [],
   "source": [
    "#How many rows and columns are there?\n",
    "data('Mammals').shape"
   ]
  },
  {
   "cell_type": "code",
   "execution_count": null,
   "id": "f6a7fe1d",
   "metadata": {},
   "outputs": [],
   "source": [
    "show_dimension(mammals)"
   ]
  },
  {
   "cell_type": "code",
   "execution_count": null,
   "id": "df635c88",
   "metadata": {},
   "outputs": [],
   "source": [
    "#What are the data types?\n",
    "mammals.dtypes"
   ]
  },
  {
   "cell_type": "code",
   "execution_count": null,
   "id": "7eb2d059",
   "metadata": {},
   "outputs": [],
   "source": [
    "#Summarize the dataframe with .info and .describe\n",
    "mammals.info()"
   ]
  },
  {
   "cell_type": "code",
   "execution_count": null,
   "id": "6160bb14",
   "metadata": {},
   "outputs": [],
   "source": [
    "mammals.describe()"
   ]
  },
  {
   "cell_type": "code",
   "execution_count": null,
   "id": "aa27129a",
   "metadata": {},
   "outputs": [],
   "source": [
    "#What is the the weight of the fastest animal?\n",
    "mammals.sort_values('speed',ascending = False).head(1)"
   ]
  },
  {
   "cell_type": "code",
   "execution_count": null,
   "id": "c63f8be3",
   "metadata": {},
   "outputs": [],
   "source": [
    "mammals.weight[mammals.speed == mammals.speed.max()]"
   ]
  },
  {
   "cell_type": "code",
   "execution_count": null,
   "id": "d8624691",
   "metadata": {},
   "outputs": [],
   "source": [
    "#What is the overal percentage of specials?\n",
    "specials_list = mammals.specials.to_list()"
   ]
  },
  {
   "cell_type": "code",
   "execution_count": null,
   "id": "03a39a3e",
   "metadata": {},
   "outputs": [],
   "source": [
    "mammals.specials.sum()"
   ]
  },
  {
   "cell_type": "code",
   "execution_count": null,
   "id": "71147ada",
   "metadata": {},
   "outputs": [],
   "source": [
    "round(specials_list.count(True)/len(specials_list)*100)"
   ]
  },
  {
   "cell_type": "code",
   "execution_count": null,
   "id": "ef9b3602",
   "metadata": {},
   "outputs": [],
   "source": [
    "mammals['specials'].value_counts(normalize=True)"
   ]
  },
  {
   "cell_type": "code",
   "execution_count": null,
   "id": "51f60aaf",
   "metadata": {},
   "outputs": [],
   "source": [
    "#How many animals are hoppers that are above the median speed? What percentage is this?\n",
    "mammals['hoppers']"
   ]
  },
  {
   "cell_type": "code",
   "execution_count": null,
   "id": "3e164579",
   "metadata": {},
   "outputs": [],
   "source": [
    "mammals[mammals.hoppers]"
   ]
  },
  {
   "cell_type": "code",
   "execution_count": null,
   "id": "b0736324",
   "metadata": {},
   "outputs": [],
   "source": [
    "mammals[mammals.speed > mammals.speed.median()]"
   ]
  },
  {
   "cell_type": "code",
   "execution_count": 292,
   "id": "26706b8a",
   "metadata": {},
   "outputs": [
    {
     "data": {
      "text/html": [
       "<div>\n",
       "<style scoped>\n",
       "    .dataframe tbody tr th:only-of-type {\n",
       "        vertical-align: middle;\n",
       "    }\n",
       "\n",
       "    .dataframe tbody tr th {\n",
       "        vertical-align: top;\n",
       "    }\n",
       "\n",
       "    .dataframe thead th {\n",
       "        text-align: right;\n",
       "    }\n",
       "</style>\n",
       "<table border=\"1\" class=\"dataframe\">\n",
       "  <thead>\n",
       "    <tr style=\"text-align: right;\">\n",
       "      <th></th>\n",
       "      <th>weight</th>\n",
       "      <th>speed</th>\n",
       "      <th>hoppers</th>\n",
       "      <th>specials</th>\n",
       "    </tr>\n",
       "  </thead>\n",
       "  <tbody>\n",
       "    <tr>\n",
       "      <th>96</th>\n",
       "      <td>4.6</td>\n",
       "      <td>64.0</td>\n",
       "      <td>True</td>\n",
       "      <td>False</td>\n",
       "    </tr>\n",
       "    <tr>\n",
       "      <th>97</th>\n",
       "      <td>4.4</td>\n",
       "      <td>72.0</td>\n",
       "      <td>True</td>\n",
       "      <td>False</td>\n",
       "    </tr>\n",
       "    <tr>\n",
       "      <th>98</th>\n",
       "      <td>4.0</td>\n",
       "      <td>72.0</td>\n",
       "      <td>True</td>\n",
       "      <td>False</td>\n",
       "    </tr>\n",
       "    <tr>\n",
       "      <th>99</th>\n",
       "      <td>3.5</td>\n",
       "      <td>56.0</td>\n",
       "      <td>True</td>\n",
       "      <td>False</td>\n",
       "    </tr>\n",
       "    <tr>\n",
       "      <th>100</th>\n",
       "      <td>2.0</td>\n",
       "      <td>64.0</td>\n",
       "      <td>True</td>\n",
       "      <td>False</td>\n",
       "    </tr>\n",
       "    <tr>\n",
       "      <th>101</th>\n",
       "      <td>1.9</td>\n",
       "      <td>56.0</td>\n",
       "      <td>True</td>\n",
       "      <td>False</td>\n",
       "    </tr>\n",
       "    <tr>\n",
       "      <th>102</th>\n",
       "      <td>1.5</td>\n",
       "      <td>50.0</td>\n",
       "      <td>True</td>\n",
       "      <td>False</td>\n",
       "    </tr>\n",
       "  </tbody>\n",
       "</table>\n",
       "</div>"
      ],
      "text/plain": [
       "     weight  speed  hoppers  specials\n",
       "96      4.6   64.0     True     False\n",
       "97      4.4   72.0     True     False\n",
       "98      4.0   72.0     True     False\n",
       "99      3.5   56.0     True     False\n",
       "100     2.0   64.0     True     False\n",
       "101     1.9   56.0     True     False\n",
       "102     1.5   50.0     True     False"
      ]
     },
     "execution_count": 292,
     "metadata": {},
     "output_type": "execute_result"
    }
   ],
   "source": [
    "mammals[(mammals.hoppers==True) & (mammals.speed > mammals.speed.median())]"
   ]
  }
 ],
 "metadata": {
  "kernelspec": {
   "display_name": "Python 3 (ipykernel)",
   "language": "python",
   "name": "python3"
  },
  "language_info": {
   "codemirror_mode": {
    "name": "ipython",
    "version": 3
   },
   "file_extension": ".py",
   "mimetype": "text/x-python",
   "name": "python",
   "nbconvert_exporter": "python",
   "pygments_lexer": "ipython3",
   "version": "3.9.13"
  }
 },
 "nbformat": 4,
 "nbformat_minor": 5
}
